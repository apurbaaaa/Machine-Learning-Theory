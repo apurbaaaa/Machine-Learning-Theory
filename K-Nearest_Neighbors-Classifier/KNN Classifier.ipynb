{
 "cells": [
  {
   "cell_type": "code",
   "execution_count": 1,
   "id": "d93da716-891f-4e22-b7fb-d2e2e65e8586",
   "metadata": {},
   "outputs": [],
   "source": [
    "import numpy as np\n",
    "import statistics"
   ]
  },
  {
   "cell_type": "code",
   "execution_count": null,
   "id": "6c7439dc-7cbd-4259-a500-a6eeef1cb87e",
   "metadata": {},
   "outputs": [],
   "source": [
    "class KNN_Classifier\n",
    "\n",
    "    #for initiating parameters\n",
    "    def __init__(self, distance_metric):\n",
    "        self.get_distance_metric = distance_metric\n",
    "\n",
    "\n",
    "    #getting distance metric   \n",
    "    def get_distance_metric(self, training_data_point, test_data_point):\n",
    "        if(self.distance_metric == 'euclidean'):\n",
    "            dist = 0\n",
    "            for i in range(len(training_data_point)):\n",
    "              dist = dist + (training_data_point[i] - test_data_point[i])**2\n",
    "            euclidean_dist = np.sqrt(dist)\n",
    "            return euclidean_dist\n",
    "\n",
    "    #getting manhattan distance\n",
    "        if(self.distance_metric == 'manhattan'):\n",
    "            dist = 0\n",
    "            for i in range(len(training_data_point)):\n",
    "              dist = dist + abs(training_data_point[i] - test_data_point[i])\n",
    "            manhattan_dist = dist\n",
    "            return manhattan_dist\n",
    "    def nearest_neighbors(self, X_train, test_data, k):\n",
    "        distance_list = []\n",
    "        for training_data in X_train:\n",
    "          distance = self.get_distance_metric(training_data, test_data)\n",
    "          distance_list.append((training_data, distance))\n",
    "\n",
    "        distance_list.sort(key=lambda x: x[1])\n",
    "\n",
    "        neighbors_list = []\n",
    "\n",
    "        for j in range(k):\n",
    "          neighbors_list.append(distance_list[j][0])\n",
    "    \n",
    "        return neighbors_list\n",
    "    \n",
    "    def predict(self):\n",
    "        neighbors = self.nearest_neighbors(X_train, test_data, k)\n",
    "        for data in neighbors:\n",
    "          label = []\n",
    "          label.append(data[-1])\n",
    "        predicted_class = statistics.mode(label)\n",
    "\n",
    "        return predicted_class\n",
    "    "
   ]
  }
 ],
 "metadata": {
  "kernelspec": {
   "display_name": "Python 3 (ipykernel)",
   "language": "python",
   "name": "python3"
  },
  "language_info": {
   "codemirror_mode": {
    "name": "ipython",
    "version": 3
   },
   "file_extension": ".py",
   "mimetype": "text/x-python",
   "name": "python",
   "nbconvert_exporter": "python",
   "pygments_lexer": "ipython3",
   "version": "3.13.0"
  }
 },
 "nbformat": 4,
 "nbformat_minor": 5
}
