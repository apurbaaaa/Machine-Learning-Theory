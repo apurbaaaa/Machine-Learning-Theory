{
 "cells": [
  {
   "cell_type": "code",
   "execution_count": 1,
   "id": "238db70b-b830-4787-bbc9-376aa1f6251d",
   "metadata": {},
   "outputs": [],
   "source": [
    "import numpy as np"
   ]
  },
  {
   "cell_type": "code",
   "execution_count": 2,
   "id": "c06bc273-cbfc-4409-b530-48fc6e0a12b2",
   "metadata": {},
   "outputs": [],
   "source": [
    "p1 = (1, 1)\n",
    "p2 = (2, 2)"
   ]
  },
  {
   "cell_type": "code",
   "execution_count": 6,
   "id": "92bd552d-9cd2-4769-8354-af9c79d59677",
   "metadata": {},
   "outputs": [],
   "source": [
    "euc_dist = np.sqrt((p1[0] - p2[0])**2 +(p1[1] - p2[1])**2) "
   ]
  },
  {
   "cell_type": "code",
   "execution_count": 7,
   "id": "a99871df-6dfd-4b4f-9e79-b04f9c53ea28",
   "metadata": {},
   "outputs": [
    {
     "name": "stdout",
     "output_type": "stream",
     "text": [
      "1.4142135623730951\n"
     ]
    }
   ],
   "source": [
    "print(euc_dist)"
   ]
  },
  {
   "cell_type": "code",
   "execution_count": 8,
   "id": "b15fb0d3-2263-46a0-bb6b-aa13a817afde",
   "metadata": {},
   "outputs": [
    {
     "name": "stdout",
     "output_type": "stream",
     "text": [
      "2.0\n"
     ]
    }
   ],
   "source": [
    "#for four dimensions\n",
    "p1 = (1,1,1,1)\n",
    "p2 = (2,2,2,2)\n",
    "\n",
    "dist = 0\n",
    "\n",
    "for i in range(len(p1)):\n",
    "  dist = dist + (p1[i] - p2[i])**2\n",
    "\n",
    "euclidean_dist = np.sqrt(dist)\n",
    "print(euclidean_dist)"
   ]
  },
  {
   "cell_type": "code",
   "execution_count": 9,
   "id": "ba288823-4dfe-402a-88de-2e54f2ccfdde",
   "metadata": {},
   "outputs": [],
   "source": [
    "def get_euclidean_distance(p1, p2):\n",
    "\n",
    "  dist = 0\n",
    "\n",
    "  for i in range(len(p1)):\n",
    "    dist = dist + (p1[i] - p2[i])**2\n",
    "\n",
    "  euclidean_dist = np.sqrt(dist)\n",
    "  print(euclidean_dist)"
   ]
  },
  {
   "cell_type": "code",
   "execution_count": 10,
   "id": "7962920d-bed7-4839-a207-ff3b2405365c",
   "metadata": {},
   "outputs": [
    {
     "name": "stdout",
     "output_type": "stream",
     "text": [
      "1.7320508075688772\n"
     ]
    }
   ],
   "source": [
    "get_euclidean_distance((1,1,1), (2,2,2))"
   ]
  },
  {
   "cell_type": "code",
   "execution_count": 21,
   "id": "ac729a76-c3fc-49ab-8762-693a3a8c635f",
   "metadata": {},
   "outputs": [],
   "source": [
    "#for manhattan distance\n",
    "def get_manhattan_distance(p1, p2):\n",
    "\n",
    "  dist = 0\n",
    "\n",
    "  for i in range(len(p1)):\n",
    "    dist = dist + abs(p1[i] - p2[i]) #abs gives absolute value\n",
    "\n",
    "    manhattan_dist = dist\n",
    "\n",
    "  print(manhattan_dist)"
   ]
  },
  {
   "cell_type": "code",
   "execution_count": 22,
   "id": "97eb69a7-d355-4d0a-a508-17afd15d46c5",
   "metadata": {},
   "outputs": [
    {
     "name": "stdout",
     "output_type": "stream",
     "text": [
      "4\n"
     ]
    }
   ],
   "source": [
    "get_manhattan_distance((1,1,1,1),(2,2,2,2))"
   ]
  },
  {
   "cell_type": "code",
   "execution_count": 23,
   "id": "1d218bd9-51ae-4da1-80a3-0868252a4e80",
   "metadata": {},
   "outputs": [
    {
     "name": "stdout",
     "output_type": "stream",
     "text": [
      "50.640300157088326\n",
      "None\n",
      "100.2\n",
      "None\n"
     ]
    }
   ],
   "source": [
    "print(get_euclidean_distance((63,1,3,145,233,1,0,150,0,2.3,0,0,1),(37,1,2,130,250,0,1,187,0,3.5,0,0,2)))\n",
    "print(get_manhattan_distance((63,1,3,145,233,1,0,150,0,2.3,0,0,1),(37,1,2,130,250,0,1,187,0,3.5,0,0,2)))"
   ]
  },
  {
   "cell_type": "code",
   "execution_count": null,
   "id": "c94d9fd1-314f-420c-8908-e45212a9e58a",
   "metadata": {},
   "outputs": [],
   "source": []
  }
 ],
 "metadata": {
  "kernelspec": {
   "display_name": "Python 3 (ipykernel)",
   "language": "python",
   "name": "python3"
  },
  "language_info": {
   "codemirror_mode": {
    "name": "ipython",
    "version": 3
   },
   "file_extension": ".py",
   "mimetype": "text/x-python",
   "name": "python",
   "nbconvert_exporter": "python",
   "pygments_lexer": "ipython3",
   "version": "3.13.0"
  }
 },
 "nbformat": 4,
 "nbformat_minor": 5
}
