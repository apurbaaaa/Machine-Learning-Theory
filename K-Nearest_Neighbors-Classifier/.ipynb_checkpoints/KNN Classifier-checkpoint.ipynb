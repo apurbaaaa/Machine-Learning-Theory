{
 "cells": [
  {
   "cell_type": "code",
   "execution_count": 1,
   "id": "d93da716-891f-4e22-b7fb-d2e2e65e8586",
   "metadata": {},
   "outputs": [],
   "source": [
    "import numpy as np\n",
    "import statistics"
   ]
  },
  {
   "cell_type": "code",
   "execution_count": 2,
   "id": "6c7439dc-7cbd-4259-a500-a6eeef1cb87e",
   "metadata": {},
   "outputs": [],
   "source": [
    "class KNN_Classifier():\n",
    "\n",
    "  # initiating the parameters\n",
    "  def __init__(self, distance_metric):\n",
    "\n",
    "    self.distance_metric = distance_metric\n",
    "\n",
    "  # getting the distance metric\n",
    "  def get_distance_metric(self,training_data_point, test_data_point):\n",
    "\n",
    "    if (self.distance_metric == 'euclidean'):\n",
    "\n",
    "      dist = 0\n",
    "      for i in range(len(training_data_point) - 1):\n",
    "        dist = dist + (training_data_point[i] - test_data_point[i])**2\n",
    "\n",
    "      euclidean_dist = np.sqrt(dist)\n",
    "    \n",
    "      return euclidean_dist\n",
    "\n",
    "    elif (self.distance_metric == 'manhattan'):\n",
    "\n",
    "      dist = 0\n",
    "\n",
    "      for i in range(len(training_data_point) - 1):\n",
    "        dist = dist + abs(training_data_point[i] - test_data_point[i])\n",
    "\n",
    "      manhattan_dist = dist\n",
    "\n",
    "      return manhattan_dist\n",
    "\n",
    "  # getting the nearest neighbors\n",
    "  def nearest_neighbors(self,X_train, test_data, k):\n",
    "\n",
    "    distance_list = []\n",
    "\n",
    "    for training_data in X_train:\n",
    "\n",
    "      distance = self.get_distance_metric(training_data, test_data)\n",
    "      distance_list.append((training_data, distance))\n",
    "\n",
    "    distance_list.sort(key=lambda x: x[1])\n",
    "\n",
    "    neighbors_list = []\n",
    "\n",
    "    for j in range(k):\n",
    "      neighbors_list.append(distance_list[j][0])\n",
    "\n",
    "    return neighbors_list\n",
    "\n",
    "\n",
    "  # predict the class of the new data point:\n",
    "  def predict(self,X_train, test_data, k):\n",
    "    neighbors = self.nearest_neighbors(X_train, test_data, k)\n",
    "    label = []\n",
    "    for data in neighbors:\n",
    "      \n",
    "      label.append(data[-1])\n",
    "\n",
    "    predicted_class = statistics.mode(label)\n",
    "\n",
    "    return predicted_class"
   ]
  },
  {
   "cell_type": "code",
   "execution_count": 3,
   "id": "750da738-2166-45c4-ac6a-b7b8cc563d53",
   "metadata": {},
   "outputs": [],
   "source": [
    "import pandas as pd\n",
    "from sklearn.model_selection import train_test_split\n",
    "from sklearn.metrics import accuracy_score"
   ]
  },
  {
   "cell_type": "code",
   "execution_count": 4,
   "id": "f5b044fb-32db-4e74-b66c-5a598b40460e",
   "metadata": {},
   "outputs": [],
   "source": [
    "diabetes_dataset = pd.read_csv('./diabetes.csv') "
   ]
  },
  {
   "cell_type": "code",
   "execution_count": 5,
   "id": "07b2455c-c130-4036-b895-c8cc0061f80f",
   "metadata": {},
   "outputs": [
    {
     "data": {
      "text/html": [
       "<div>\n",
       "<style scoped>\n",
       "    .dataframe tbody tr th:only-of-type {\n",
       "        vertical-align: middle;\n",
       "    }\n",
       "\n",
       "    .dataframe tbody tr th {\n",
       "        vertical-align: top;\n",
       "    }\n",
       "\n",
       "    .dataframe thead th {\n",
       "        text-align: right;\n",
       "    }\n",
       "</style>\n",
       "<table border=\"1\" class=\"dataframe\">\n",
       "  <thead>\n",
       "    <tr style=\"text-align: right;\">\n",
       "      <th></th>\n",
       "      <th>Pregnancies</th>\n",
       "      <th>Glucose</th>\n",
       "      <th>BloodPressure</th>\n",
       "      <th>SkinThickness</th>\n",
       "      <th>Insulin</th>\n",
       "      <th>BMI</th>\n",
       "      <th>DiabetesPedigreeFunction</th>\n",
       "      <th>Age</th>\n",
       "      <th>Outcome</th>\n",
       "    </tr>\n",
       "  </thead>\n",
       "  <tbody>\n",
       "    <tr>\n",
       "      <th>0</th>\n",
       "      <td>6</td>\n",
       "      <td>148</td>\n",
       "      <td>72</td>\n",
       "      <td>35</td>\n",
       "      <td>0</td>\n",
       "      <td>33.6</td>\n",
       "      <td>0.627</td>\n",
       "      <td>50</td>\n",
       "      <td>1</td>\n",
       "    </tr>\n",
       "    <tr>\n",
       "      <th>1</th>\n",
       "      <td>1</td>\n",
       "      <td>85</td>\n",
       "      <td>66</td>\n",
       "      <td>29</td>\n",
       "      <td>0</td>\n",
       "      <td>26.6</td>\n",
       "      <td>0.351</td>\n",
       "      <td>31</td>\n",
       "      <td>0</td>\n",
       "    </tr>\n",
       "    <tr>\n",
       "      <th>2</th>\n",
       "      <td>8</td>\n",
       "      <td>183</td>\n",
       "      <td>64</td>\n",
       "      <td>0</td>\n",
       "      <td>0</td>\n",
       "      <td>23.3</td>\n",
       "      <td>0.672</td>\n",
       "      <td>32</td>\n",
       "      <td>1</td>\n",
       "    </tr>\n",
       "    <tr>\n",
       "      <th>3</th>\n",
       "      <td>1</td>\n",
       "      <td>89</td>\n",
       "      <td>66</td>\n",
       "      <td>23</td>\n",
       "      <td>94</td>\n",
       "      <td>28.1</td>\n",
       "      <td>0.167</td>\n",
       "      <td>21</td>\n",
       "      <td>0</td>\n",
       "    </tr>\n",
       "    <tr>\n",
       "      <th>4</th>\n",
       "      <td>0</td>\n",
       "      <td>137</td>\n",
       "      <td>40</td>\n",
       "      <td>35</td>\n",
       "      <td>168</td>\n",
       "      <td>43.1</td>\n",
       "      <td>2.288</td>\n",
       "      <td>33</td>\n",
       "      <td>1</td>\n",
       "    </tr>\n",
       "  </tbody>\n",
       "</table>\n",
       "</div>"
      ],
      "text/plain": [
       "   Pregnancies  Glucose  BloodPressure  SkinThickness  Insulin   BMI  \\\n",
       "0            6      148             72             35        0  33.6   \n",
       "1            1       85             66             29        0  26.6   \n",
       "2            8      183             64              0        0  23.3   \n",
       "3            1       89             66             23       94  28.1   \n",
       "4            0      137             40             35      168  43.1   \n",
       "\n",
       "   DiabetesPedigreeFunction  Age  Outcome  \n",
       "0                     0.627   50        1  \n",
       "1                     0.351   31        0  \n",
       "2                     0.672   32        1  \n",
       "3                     0.167   21        0  \n",
       "4                     2.288   33        1  "
      ]
     },
     "execution_count": 5,
     "metadata": {},
     "output_type": "execute_result"
    }
   ],
   "source": [
    "diabetes_dataset.head()"
   ]
  },
  {
   "cell_type": "code",
   "execution_count": 6,
   "id": "55a331a5-6cc6-4596-9ba4-90d69f2e61a6",
   "metadata": {},
   "outputs": [],
   "source": [
    "X = diabetes_dataset.drop(columns='Outcome', axis = 1)\n",
    "Y = diabetes_dataset['Outcome']"
   ]
  },
  {
   "cell_type": "code",
   "execution_count": 7,
   "id": "a0621491-c692-46e0-893d-33c35c0afc53",
   "metadata": {},
   "outputs": [],
   "source": [
    "X = X.to_numpy()\n",
    "Y = Y.to_numpy()"
   ]
  },
  {
   "cell_type": "code",
   "execution_count": 8,
   "id": "6e034df9-97a2-4b90-b2c5-5050061949d4",
   "metadata": {},
   "outputs": [],
   "source": [
    "X_train, X_test, Y_train, Y_test = train_test_split(X, Y, test_size=0.2, stratify=Y, random_state=42)"
   ]
  },
  {
   "cell_type": "code",
   "execution_count": 9,
   "id": "a9f9fcbf-d88b-4312-af09-769433442977",
   "metadata": {},
   "outputs": [
    {
     "name": "stdout",
     "output_type": "stream",
     "text": [
      "[[1.00e+00 9.00e+01 6.20e+01 ... 2.72e+01 5.80e-01 2.40e+01]\n",
      " [5.00e+00 1.26e+02 7.80e+01 ... 2.96e+01 4.39e-01 4.00e+01]\n",
      " [2.00e+00 1.05e+02 5.80e+01 ... 3.49e+01 2.25e-01 2.50e+01]\n",
      " ...\n",
      " [1.00e+00 9.70e+01 7.00e+01 ... 3.81e+01 2.18e-01 3.00e+01]\n",
      " [1.00e+01 1.11e+02 7.00e+01 ... 2.75e+01 1.41e-01 4.00e+01]\n",
      " [4.00e+00 1.44e+02 5.80e+01 ... 2.95e+01 2.87e-01 3.70e+01]]\n"
     ]
    }
   ],
   "source": [
    "print(X_train)"
   ]
  },
  {
   "cell_type": "code",
   "execution_count": 10,
   "id": "03f7e839-3d1d-44e8-94f1-d7a0dd77efea",
   "metadata": {},
   "outputs": [],
   "source": [
    "X_train = np.insert(X_train, 8, Y_train, axis=1)"
   ]
  },
  {
   "cell_type": "code",
   "execution_count": 11,
   "id": "a8c9801e-3da1-4226-99db-47f2cd7928ec",
   "metadata": {},
   "outputs": [],
   "source": [
    "classifier = KNN_Classifier(distance_metric='manhattan')"
   ]
  },
  {
   "cell_type": "code",
   "execution_count": 12,
   "id": "896b6c40-d39f-4994-8abc-1fb30c241c1c",
   "metadata": {},
   "outputs": [],
   "source": [
    "prediction = classifier.predict(X_train, X_test[2], k=5)"
   ]
  },
  {
   "cell_type": "code",
   "execution_count": 13,
   "id": "915400dc-5cf8-4ea2-aff2-5f205e4c5cbd",
   "metadata": {},
   "outputs": [
    {
     "name": "stdout",
     "output_type": "stream",
     "text": [
      "154\n"
     ]
    }
   ],
   "source": [
    "X_test_size = X_test.shape[0]\n",
    "print(X_test_size)"
   ]
  },
  {
   "cell_type": "code",
   "execution_count": 14,
   "id": "417da3d3-8d7f-424d-8ead-57cc6da2cdae",
   "metadata": {},
   "outputs": [],
   "source": [
    "y_pred = []\n",
    "\n",
    "for i in range(X_test_size):\n",
    "  prediction = classifier.predict(X_train, X_test[i], k=5)\n",
    "  y_pred.append(prediction)"
   ]
  },
  {
   "cell_type": "code",
   "execution_count": 15,
   "id": "ae1fc508-dc53-4ce4-aec3-7f11f5c80bdb",
   "metadata": {},
   "outputs": [],
   "source": [
    "y_true = Y_test"
   ]
  },
  {
   "cell_type": "code",
   "execution_count": 16,
   "id": "bdb2f0dc-a090-4e24-849e-f711835512b8",
   "metadata": {},
   "outputs": [],
   "source": [
    "accuracy = accuracy_score(y_true, y_pred)"
   ]
  },
  {
   "cell_type": "code",
   "execution_count": 17,
   "id": "de867132-edf8-48c1-86da-064efddb6897",
   "metadata": {},
   "outputs": [
    {
     "name": "stdout",
     "output_type": "stream",
     "text": [
      "72.72727272727273\n"
     ]
    }
   ],
   "source": [
    "print(accuracy*100)  # accuracy score in %"
   ]
  }
 ],
 "metadata": {
  "kernelspec": {
   "display_name": "Python 3 (ipykernel)",
   "language": "python",
   "name": "python3"
  },
  "language_info": {
   "codemirror_mode": {
    "name": "ipython",
    "version": 3
   },
   "file_extension": ".py",
   "mimetype": "text/x-python",
   "name": "python",
   "nbconvert_exporter": "python",
   "pygments_lexer": "ipython3",
   "version": "3.13.0"
  }
 },
 "nbformat": 4,
 "nbformat_minor": 5
}
